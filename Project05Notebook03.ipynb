{
 "cells": [
  {
   "cell_type": "markdown",
   "metadata": {},
   "source": [
    "# Notebook 03: Results presentation notebook"
   ]
  },
  {
   "cell_type": "markdown",
   "metadata": {},
   "source": [
    "## Intro: "
   ]
  },
  {
   "cell_type": "markdown",
   "metadata": {},
   "source": [
    "Spotify is one of the most widely used music streaming services. Thus it a desirable source to draw data from. Fortunately, Spotify has a fairly user friendly web API, which can be used to access a wealth of information. \n",
    "\n",
    "More specifically, the API has an endpoint, which provides audio information about tracks. One of the more interesting pieces of audio information at this endpoint is a track's valence, an audio variable that measures a songs happiness (0 being completely devoid of happiness, 1 being completely happy). \n",
    "\n",
    "The goal of our investigation is to explore the presence of valence amoung our group's and some other student's playlists, as well as investigate what variables may explain a track's valence. With this motivation in mind, we form three driving questions: Who has the highest average valence in our sample? What are the playlists, and songs within these playlists with the highest valence?  And lastly, what other audio variables explain some of the variance in valence? For the final question, we hypothesize that playlists with higher danceability will have higher valence, and playlists that are more \"wordy\" will have lower valence. "
   ]
  },
  {
   "cell_type": "markdown",
   "metadata": {},
   "source": [
    "## Importing Data: "
   ]
  },
  {
   "cell_type": "code",
   "execution_count": 97,
   "metadata": {
    "collapsed": true
   },
   "outputs": [],
   "source": [
    "#importing packages, and csv files. \n",
    "import pandas as pd \n",
    "import numpy as np \n",
    "import matplotlib.pyplot as plt\n",
    "playlist_df = pd.read_csv('Playlists.csv')\n",
    "track_df = pd.read_csv('Tracks.csv')\n",
    "audio_df = pd.read_csv('Audio.csv')"
   ]
  },
  {
   "cell_type": "markdown",
   "metadata": {},
   "source": [
    "### Playlist Dataframe \n",
    "this frame contains the names, and ids for the playlists of our sampled spotify users. "
   ]
  },
  {
   "cell_type": "code",
   "execution_count": 98,
   "metadata": {
    "scrolled": true
   },
   "outputs": [
    {
     "data": {
      "text/html": [
       "<div>\n",
       "<style>\n",
       "    .dataframe thead tr:only-child th {\n",
       "        text-align: right;\n",
       "    }\n",
       "\n",
       "    .dataframe thead th {\n",
       "        text-align: left;\n",
       "    }\n",
       "\n",
       "    .dataframe tbody tr th {\n",
       "        vertical-align: top;\n",
       "    }\n",
       "</style>\n",
       "<table border=\"1\" class=\"dataframe\">\n",
       "  <thead>\n",
       "    <tr style=\"text-align: right;\">\n",
       "      <th></th>\n",
       "      <th>Unnamed: 0</th>\n",
       "      <th>name</th>\n",
       "      <th>playlist_id</th>\n",
       "      <th>user_id</th>\n",
       "    </tr>\n",
       "  </thead>\n",
       "  <tbody>\n",
       "    <tr>\n",
       "      <th>0</th>\n",
       "      <td>0</td>\n",
       "      <td>Your Top Songs 2017</td>\n",
       "      <td>37i9dQZF1E9UBfOE5yO2Rg</td>\n",
       "      <td>eric</td>\n",
       "    </tr>\n",
       "    <tr>\n",
       "      <th>1</th>\n",
       "      <td>1</td>\n",
       "      <td>The Ones That Got Away</td>\n",
       "      <td>37i9dQZF1Eak9mtZUi93hp</td>\n",
       "      <td>eric</td>\n",
       "    </tr>\n",
       "    <tr>\n",
       "      <th>2</th>\n",
       "      <td>2</td>\n",
       "      <td>Passed</td>\n",
       "      <td>0CluAklouKBTc4lDdaumFh</td>\n",
       "      <td>eric</td>\n",
       "    </tr>\n",
       "    <tr>\n",
       "      <th>3</th>\n",
       "      <td>3</td>\n",
       "      <td>DJ</td>\n",
       "      <td>5xQcD38XyjsbveWoXufZ04</td>\n",
       "      <td>eric</td>\n",
       "    </tr>\n",
       "    <tr>\n",
       "      <th>4</th>\n",
       "      <td>4</td>\n",
       "      <td>House</td>\n",
       "      <td>2ueo7tfdlg5DF08XxLFLEQ</td>\n",
       "      <td>eric</td>\n",
       "    </tr>\n",
       "  </tbody>\n",
       "</table>\n",
       "</div>"
      ],
      "text/plain": [
       "   Unnamed: 0                    name             playlist_id user_id\n",
       "0           0     Your Top Songs 2017  37i9dQZF1E9UBfOE5yO2Rg    eric\n",
       "1           1  The Ones That Got Away  37i9dQZF1Eak9mtZUi93hp    eric\n",
       "2           2                  Passed  0CluAklouKBTc4lDdaumFh    eric\n",
       "3           3                      DJ  5xQcD38XyjsbveWoXufZ04    eric\n",
       "4           4                   House  2ueo7tfdlg5DF08XxLFLEQ    eric"
      ]
     },
     "execution_count": 98,
     "metadata": {},
     "output_type": "execute_result"
    }
   ],
   "source": [
    "playlist_df.head()"
   ]
  },
  {
   "cell_type": "markdown",
   "metadata": {},
   "source": [
    "### Tracks Dataframe \n",
    "this frame contains the names, and ids for the songs in our sampled spotify users' playlists. "
   ]
  },
  {
   "cell_type": "code",
   "execution_count": 102,
   "metadata": {},
   "outputs": [
    {
     "data": {
      "text/html": [
       "<div>\n",
       "<style>\n",
       "    .dataframe thead tr:only-child th {\n",
       "        text-align: right;\n",
       "    }\n",
       "\n",
       "    .dataframe thead th {\n",
       "        text-align: left;\n",
       "    }\n",
       "\n",
       "    .dataframe tbody tr th {\n",
       "        vertical-align: top;\n",
       "    }\n",
       "</style>\n",
       "<table border=\"1\" class=\"dataframe\">\n",
       "  <thead>\n",
       "    <tr style=\"text-align: right;\">\n",
       "      <th></th>\n",
       "      <th>Unnamed: 0</th>\n",
       "      <th>playlist_id</th>\n",
       "      <th>song_name</th>\n",
       "      <th>track_id</th>\n",
       "      <th>user_id</th>\n",
       "    </tr>\n",
       "  </thead>\n",
       "  <tbody>\n",
       "    <tr>\n",
       "      <th>0</th>\n",
       "      <td>0</td>\n",
       "      <td>0CluAklouKBTc4lDdaumFh</td>\n",
       "      <td>A Face In The Crowd</td>\n",
       "      <td>4tSZr210OTY6upjNYfEYUI</td>\n",
       "      <td>eric</td>\n",
       "    </tr>\n",
       "    <tr>\n",
       "      <th>1</th>\n",
       "      <td>1</td>\n",
       "      <td>0CluAklouKBTc4lDdaumFh</td>\n",
       "      <td>Run Of The Mill</td>\n",
       "      <td>3S574gsoQJl826YjsuRqSr</td>\n",
       "      <td>eric</td>\n",
       "    </tr>\n",
       "    <tr>\n",
       "      <th>2</th>\n",
       "      <td>2</td>\n",
       "      <td>0CluAklouKBTc4lDdaumFh</td>\n",
       "      <td>Out On The Weekend - Remastered Album Version</td>\n",
       "      <td>7DqktFsRwJa0XDFPMjV1xJ</td>\n",
       "      <td>eric</td>\n",
       "    </tr>\n",
       "    <tr>\n",
       "      <th>3</th>\n",
       "      <td>3</td>\n",
       "      <td>0CluAklouKBTc4lDdaumFh</td>\n",
       "      <td>Strangers</td>\n",
       "      <td>7obb4s6A7gf0Lc2AGxodMy</td>\n",
       "      <td>eric</td>\n",
       "    </tr>\n",
       "    <tr>\n",
       "      <th>4</th>\n",
       "      <td>4</td>\n",
       "      <td>0CluAklouKBTc4lDdaumFh</td>\n",
       "      <td>Stephanie Says - Original Mix</td>\n",
       "      <td>7brL0ZuueQZUgpDgheNcqs</td>\n",
       "      <td>eric</td>\n",
       "    </tr>\n",
       "  </tbody>\n",
       "</table>\n",
       "</div>"
      ],
      "text/plain": [
       "   Unnamed: 0             playlist_id  \\\n",
       "0           0  0CluAklouKBTc4lDdaumFh   \n",
       "1           1  0CluAklouKBTc4lDdaumFh   \n",
       "2           2  0CluAklouKBTc4lDdaumFh   \n",
       "3           3  0CluAklouKBTc4lDdaumFh   \n",
       "4           4  0CluAklouKBTc4lDdaumFh   \n",
       "\n",
       "                                       song_name                track_id  \\\n",
       "0                            A Face In The Crowd  4tSZr210OTY6upjNYfEYUI   \n",
       "1                                Run Of The Mill  3S574gsoQJl826YjsuRqSr   \n",
       "2  Out On The Weekend - Remastered Album Version  7DqktFsRwJa0XDFPMjV1xJ   \n",
       "3                                      Strangers  7obb4s6A7gf0Lc2AGxodMy   \n",
       "4                  Stephanie Says - Original Mix  7brL0ZuueQZUgpDgheNcqs   \n",
       "\n",
       "  user_id  \n",
       "0    eric  \n",
       "1    eric  \n",
       "2    eric  \n",
       "3    eric  \n",
       "4    eric  "
      ]
     },
     "execution_count": 102,
     "metadata": {},
     "output_type": "execute_result"
    }
   ],
   "source": [
    "track_df.head()"
   ]
  },
  {
   "cell_type": "markdown",
   "metadata": {},
   "source": [
    "### Audio Dataframe \n",
    "this frame contains various audio data variables for the songs in our sampled spotify users' playlists. "
   ]
  },
  {
   "cell_type": "code",
   "execution_count": 103,
   "metadata": {
    "scrolled": true
   },
   "outputs": [
    {
     "data": {
      "text/html": [
       "<div>\n",
       "<style>\n",
       "    .dataframe thead tr:only-child th {\n",
       "        text-align: right;\n",
       "    }\n",
       "\n",
       "    .dataframe thead th {\n",
       "        text-align: left;\n",
       "    }\n",
       "\n",
       "    .dataframe tbody tr th {\n",
       "        vertical-align: top;\n",
       "    }\n",
       "</style>\n",
       "<table border=\"1\" class=\"dataframe\">\n",
       "  <thead>\n",
       "    <tr style=\"text-align: right;\">\n",
       "      <th></th>\n",
       "      <th>Unnamed: 0</th>\n",
       "      <th>acousticness</th>\n",
       "      <th>analysis_url</th>\n",
       "      <th>danceability</th>\n",
       "      <th>duration_ms</th>\n",
       "      <th>energy</th>\n",
       "      <th>id</th>\n",
       "      <th>instrumentalness</th>\n",
       "      <th>key</th>\n",
       "      <th>liveness</th>\n",
       "      <th>loudness</th>\n",
       "      <th>mode</th>\n",
       "      <th>speechiness</th>\n",
       "      <th>tempo</th>\n",
       "      <th>time_signature</th>\n",
       "      <th>track_href</th>\n",
       "      <th>type</th>\n",
       "      <th>uri</th>\n",
       "      <th>valence</th>\n",
       "    </tr>\n",
       "  </thead>\n",
       "  <tbody>\n",
       "    <tr>\n",
       "      <th>0</th>\n",
       "      <td>0</td>\n",
       "      <td>0.1100</td>\n",
       "      <td>https://api.spotify.com/v1/audio-analysis/4tSZ...</td>\n",
       "      <td>0.699</td>\n",
       "      <td>239307</td>\n",
       "      <td>0.610</td>\n",
       "      <td>4tSZr210OTY6upjNYfEYUI</td>\n",
       "      <td>0.001880</td>\n",
       "      <td>4</td>\n",
       "      <td>0.0600</td>\n",
       "      <td>-13.372</td>\n",
       "      <td>0</td>\n",
       "      <td>0.0272</td>\n",
       "      <td>105.568</td>\n",
       "      <td>4</td>\n",
       "      <td>https://api.spotify.com/v1/tracks/4tSZr210OTY6...</td>\n",
       "      <td>audio_features</td>\n",
       "      <td>spotify:track:4tSZr210OTY6upjNYfEYUI</td>\n",
       "      <td>0.755</td>\n",
       "    </tr>\n",
       "    <tr>\n",
       "      <th>1</th>\n",
       "      <td>1</td>\n",
       "      <td>0.0303</td>\n",
       "      <td>https://api.spotify.com/v1/audio-analysis/3S57...</td>\n",
       "      <td>0.542</td>\n",
       "      <td>171693</td>\n",
       "      <td>0.643</td>\n",
       "      <td>3S574gsoQJl826YjsuRqSr</td>\n",
       "      <td>0.007070</td>\n",
       "      <td>11</td>\n",
       "      <td>0.1050</td>\n",
       "      <td>-7.864</td>\n",
       "      <td>0</td>\n",
       "      <td>0.0296</td>\n",
       "      <td>136.674</td>\n",
       "      <td>4</td>\n",
       "      <td>https://api.spotify.com/v1/tracks/3S574gsoQJl8...</td>\n",
       "      <td>audio_features</td>\n",
       "      <td>spotify:track:3S574gsoQJl826YjsuRqSr</td>\n",
       "      <td>0.788</td>\n",
       "    </tr>\n",
       "    <tr>\n",
       "      <th>2</th>\n",
       "      <td>2</td>\n",
       "      <td>0.0967</td>\n",
       "      <td>https://api.spotify.com/v1/audio-analysis/7Dqk...</td>\n",
       "      <td>0.673</td>\n",
       "      <td>271933</td>\n",
       "      <td>0.265</td>\n",
       "      <td>7DqktFsRwJa0XDFPMjV1xJ</td>\n",
       "      <td>0.033600</td>\n",
       "      <td>9</td>\n",
       "      <td>0.0809</td>\n",
       "      <td>-15.711</td>\n",
       "      <td>1</td>\n",
       "      <td>0.0387</td>\n",
       "      <td>136.748</td>\n",
       "      <td>4</td>\n",
       "      <td>https://api.spotify.com/v1/tracks/7DqktFsRwJa0...</td>\n",
       "      <td>audio_features</td>\n",
       "      <td>spotify:track:7DqktFsRwJa0XDFPMjV1xJ</td>\n",
       "      <td>0.641</td>\n",
       "    </tr>\n",
       "    <tr>\n",
       "      <th>3</th>\n",
       "      <td>3</td>\n",
       "      <td>0.2530</td>\n",
       "      <td>https://api.spotify.com/v1/audio-analysis/7obb...</td>\n",
       "      <td>0.470</td>\n",
       "      <td>198373</td>\n",
       "      <td>0.397</td>\n",
       "      <td>7obb4s6A7gf0Lc2AGxodMy</td>\n",
       "      <td>0.000014</td>\n",
       "      <td>0</td>\n",
       "      <td>0.1090</td>\n",
       "      <td>-9.337</td>\n",
       "      <td>1</td>\n",
       "      <td>0.0345</td>\n",
       "      <td>128.690</td>\n",
       "      <td>4</td>\n",
       "      <td>https://api.spotify.com/v1/tracks/7obb4s6A7gf0...</td>\n",
       "      <td>audio_features</td>\n",
       "      <td>spotify:track:7obb4s6A7gf0Lc2AGxodMy</td>\n",
       "      <td>0.487</td>\n",
       "    </tr>\n",
       "    <tr>\n",
       "      <th>4</th>\n",
       "      <td>4</td>\n",
       "      <td>0.8510</td>\n",
       "      <td>https://api.spotify.com/v1/audio-analysis/7brL...</td>\n",
       "      <td>0.556</td>\n",
       "      <td>169560</td>\n",
       "      <td>0.284</td>\n",
       "      <td>7brL0ZuueQZUgpDgheNcqs</td>\n",
       "      <td>0.000024</td>\n",
       "      <td>0</td>\n",
       "      <td>0.0965</td>\n",
       "      <td>-14.921</td>\n",
       "      <td>1</td>\n",
       "      <td>0.0332</td>\n",
       "      <td>112.894</td>\n",
       "      <td>4</td>\n",
       "      <td>https://api.spotify.com/v1/tracks/7brL0ZuueQZU...</td>\n",
       "      <td>audio_features</td>\n",
       "      <td>spotify:track:7brL0ZuueQZUgpDgheNcqs</td>\n",
       "      <td>0.238</td>\n",
       "    </tr>\n",
       "  </tbody>\n",
       "</table>\n",
       "</div>"
      ],
      "text/plain": [
       "   Unnamed: 0  acousticness  \\\n",
       "0           0        0.1100   \n",
       "1           1        0.0303   \n",
       "2           2        0.0967   \n",
       "3           3        0.2530   \n",
       "4           4        0.8510   \n",
       "\n",
       "                                        analysis_url  danceability  \\\n",
       "0  https://api.spotify.com/v1/audio-analysis/4tSZ...         0.699   \n",
       "1  https://api.spotify.com/v1/audio-analysis/3S57...         0.542   \n",
       "2  https://api.spotify.com/v1/audio-analysis/7Dqk...         0.673   \n",
       "3  https://api.spotify.com/v1/audio-analysis/7obb...         0.470   \n",
       "4  https://api.spotify.com/v1/audio-analysis/7brL...         0.556   \n",
       "\n",
       "   duration_ms  energy                      id  instrumentalness  key  \\\n",
       "0       239307   0.610  4tSZr210OTY6upjNYfEYUI          0.001880    4   \n",
       "1       171693   0.643  3S574gsoQJl826YjsuRqSr          0.007070   11   \n",
       "2       271933   0.265  7DqktFsRwJa0XDFPMjV1xJ          0.033600    9   \n",
       "3       198373   0.397  7obb4s6A7gf0Lc2AGxodMy          0.000014    0   \n",
       "4       169560   0.284  7brL0ZuueQZUgpDgheNcqs          0.000024    0   \n",
       "\n",
       "   liveness  loudness  mode  speechiness    tempo  time_signature  \\\n",
       "0    0.0600   -13.372     0       0.0272  105.568               4   \n",
       "1    0.1050    -7.864     0       0.0296  136.674               4   \n",
       "2    0.0809   -15.711     1       0.0387  136.748               4   \n",
       "3    0.1090    -9.337     1       0.0345  128.690               4   \n",
       "4    0.0965   -14.921     1       0.0332  112.894               4   \n",
       "\n",
       "                                          track_href            type  \\\n",
       "0  https://api.spotify.com/v1/tracks/4tSZr210OTY6...  audio_features   \n",
       "1  https://api.spotify.com/v1/tracks/3S574gsoQJl8...  audio_features   \n",
       "2  https://api.spotify.com/v1/tracks/7DqktFsRwJa0...  audio_features   \n",
       "3  https://api.spotify.com/v1/tracks/7obb4s6A7gf0...  audio_features   \n",
       "4  https://api.spotify.com/v1/tracks/7brL0ZuueQZU...  audio_features   \n",
       "\n",
       "                                    uri  valence  \n",
       "0  spotify:track:4tSZr210OTY6upjNYfEYUI    0.755  \n",
       "1  spotify:track:3S574gsoQJl826YjsuRqSr    0.788  \n",
       "2  spotify:track:7DqktFsRwJa0XDFPMjV1xJ    0.641  \n",
       "3  spotify:track:7obb4s6A7gf0Lc2AGxodMy    0.487  \n",
       "4  spotify:track:7brL0ZuueQZUgpDgheNcqs    0.238  "
      ]
     },
     "execution_count": 103,
     "metadata": {},
     "output_type": "execute_result"
    }
   ],
   "source": [
    "audio_df.head()"
   ]
  },
  {
   "cell_type": "markdown",
   "metadata": {},
   "source": [
    "## General Exploration:"
   ]
  },
  {
   "cell_type": "markdown",
   "metadata": {},
   "source": [
    "Using pandas we can concat the audio and tracks dataframes, so we can see the names of the tracks, and the user whose playlist the song is in for the audio data.  "
   ]
  },
  {
   "cell_type": "code",
   "execution_count": 104,
   "metadata": {
    "collapsed": true
   },
   "outputs": [],
   "source": [
    "tracks = pd.concat([track_df, audio_df], axis=1, join='inner')"
   ]
  },
  {
   "cell_type": "code",
   "execution_count": 105,
   "metadata": {},
   "outputs": [
    {
     "data": {
      "text/html": [
       "<div>\n",
       "<style>\n",
       "    .dataframe thead tr:only-child th {\n",
       "        text-align: right;\n",
       "    }\n",
       "\n",
       "    .dataframe thead th {\n",
       "        text-align: left;\n",
       "    }\n",
       "\n",
       "    .dataframe tbody tr th {\n",
       "        vertical-align: top;\n",
       "    }\n",
       "</style>\n",
       "<table border=\"1\" class=\"dataframe\">\n",
       "  <thead>\n",
       "    <tr style=\"text-align: right;\">\n",
       "      <th></th>\n",
       "      <th>Unnamed: 0</th>\n",
       "      <th>playlist_id</th>\n",
       "      <th>song_name</th>\n",
       "      <th>track_id</th>\n",
       "      <th>user_id</th>\n",
       "      <th>Unnamed: 0</th>\n",
       "      <th>acousticness</th>\n",
       "      <th>analysis_url</th>\n",
       "      <th>danceability</th>\n",
       "      <th>duration_ms</th>\n",
       "      <th>...</th>\n",
       "      <th>liveness</th>\n",
       "      <th>loudness</th>\n",
       "      <th>mode</th>\n",
       "      <th>speechiness</th>\n",
       "      <th>tempo</th>\n",
       "      <th>time_signature</th>\n",
       "      <th>track_href</th>\n",
       "      <th>type</th>\n",
       "      <th>uri</th>\n",
       "      <th>valence</th>\n",
       "    </tr>\n",
       "  </thead>\n",
       "  <tbody>\n",
       "    <tr>\n",
       "      <th>0</th>\n",
       "      <td>0</td>\n",
       "      <td>0CluAklouKBTc4lDdaumFh</td>\n",
       "      <td>A Face In The Crowd</td>\n",
       "      <td>4tSZr210OTY6upjNYfEYUI</td>\n",
       "      <td>eric</td>\n",
       "      <td>0</td>\n",
       "      <td>0.1100</td>\n",
       "      <td>https://api.spotify.com/v1/audio-analysis/4tSZ...</td>\n",
       "      <td>0.699</td>\n",
       "      <td>239307</td>\n",
       "      <td>...</td>\n",
       "      <td>0.0600</td>\n",
       "      <td>-13.372</td>\n",
       "      <td>0</td>\n",
       "      <td>0.0272</td>\n",
       "      <td>105.568</td>\n",
       "      <td>4</td>\n",
       "      <td>https://api.spotify.com/v1/tracks/4tSZr210OTY6...</td>\n",
       "      <td>audio_features</td>\n",
       "      <td>spotify:track:4tSZr210OTY6upjNYfEYUI</td>\n",
       "      <td>0.755</td>\n",
       "    </tr>\n",
       "    <tr>\n",
       "      <th>1</th>\n",
       "      <td>1</td>\n",
       "      <td>0CluAklouKBTc4lDdaumFh</td>\n",
       "      <td>Run Of The Mill</td>\n",
       "      <td>3S574gsoQJl826YjsuRqSr</td>\n",
       "      <td>eric</td>\n",
       "      <td>1</td>\n",
       "      <td>0.0303</td>\n",
       "      <td>https://api.spotify.com/v1/audio-analysis/3S57...</td>\n",
       "      <td>0.542</td>\n",
       "      <td>171693</td>\n",
       "      <td>...</td>\n",
       "      <td>0.1050</td>\n",
       "      <td>-7.864</td>\n",
       "      <td>0</td>\n",
       "      <td>0.0296</td>\n",
       "      <td>136.674</td>\n",
       "      <td>4</td>\n",
       "      <td>https://api.spotify.com/v1/tracks/3S574gsoQJl8...</td>\n",
       "      <td>audio_features</td>\n",
       "      <td>spotify:track:3S574gsoQJl826YjsuRqSr</td>\n",
       "      <td>0.788</td>\n",
       "    </tr>\n",
       "    <tr>\n",
       "      <th>2</th>\n",
       "      <td>2</td>\n",
       "      <td>0CluAklouKBTc4lDdaumFh</td>\n",
       "      <td>Out On The Weekend - Remastered Album Version</td>\n",
       "      <td>7DqktFsRwJa0XDFPMjV1xJ</td>\n",
       "      <td>eric</td>\n",
       "      <td>2</td>\n",
       "      <td>0.0967</td>\n",
       "      <td>https://api.spotify.com/v1/audio-analysis/7Dqk...</td>\n",
       "      <td>0.673</td>\n",
       "      <td>271933</td>\n",
       "      <td>...</td>\n",
       "      <td>0.0809</td>\n",
       "      <td>-15.711</td>\n",
       "      <td>1</td>\n",
       "      <td>0.0387</td>\n",
       "      <td>136.748</td>\n",
       "      <td>4</td>\n",
       "      <td>https://api.spotify.com/v1/tracks/7DqktFsRwJa0...</td>\n",
       "      <td>audio_features</td>\n",
       "      <td>spotify:track:7DqktFsRwJa0XDFPMjV1xJ</td>\n",
       "      <td>0.641</td>\n",
       "    </tr>\n",
       "    <tr>\n",
       "      <th>3</th>\n",
       "      <td>3</td>\n",
       "      <td>0CluAklouKBTc4lDdaumFh</td>\n",
       "      <td>Strangers</td>\n",
       "      <td>7obb4s6A7gf0Lc2AGxodMy</td>\n",
       "      <td>eric</td>\n",
       "      <td>3</td>\n",
       "      <td>0.2530</td>\n",
       "      <td>https://api.spotify.com/v1/audio-analysis/7obb...</td>\n",
       "      <td>0.470</td>\n",
       "      <td>198373</td>\n",
       "      <td>...</td>\n",
       "      <td>0.1090</td>\n",
       "      <td>-9.337</td>\n",
       "      <td>1</td>\n",
       "      <td>0.0345</td>\n",
       "      <td>128.690</td>\n",
       "      <td>4</td>\n",
       "      <td>https://api.spotify.com/v1/tracks/7obb4s6A7gf0...</td>\n",
       "      <td>audio_features</td>\n",
       "      <td>spotify:track:7obb4s6A7gf0Lc2AGxodMy</td>\n",
       "      <td>0.487</td>\n",
       "    </tr>\n",
       "    <tr>\n",
       "      <th>4</th>\n",
       "      <td>4</td>\n",
       "      <td>0CluAklouKBTc4lDdaumFh</td>\n",
       "      <td>Stephanie Says - Original Mix</td>\n",
       "      <td>7brL0ZuueQZUgpDgheNcqs</td>\n",
       "      <td>eric</td>\n",
       "      <td>4</td>\n",
       "      <td>0.8510</td>\n",
       "      <td>https://api.spotify.com/v1/audio-analysis/7brL...</td>\n",
       "      <td>0.556</td>\n",
       "      <td>169560</td>\n",
       "      <td>...</td>\n",
       "      <td>0.0965</td>\n",
       "      <td>-14.921</td>\n",
       "      <td>1</td>\n",
       "      <td>0.0332</td>\n",
       "      <td>112.894</td>\n",
       "      <td>4</td>\n",
       "      <td>https://api.spotify.com/v1/tracks/7brL0ZuueQZU...</td>\n",
       "      <td>audio_features</td>\n",
       "      <td>spotify:track:7brL0ZuueQZUgpDgheNcqs</td>\n",
       "      <td>0.238</td>\n",
       "    </tr>\n",
       "  </tbody>\n",
       "</table>\n",
       "<p>5 rows × 24 columns</p>\n",
       "</div>"
      ],
      "text/plain": [
       "   Unnamed: 0             playlist_id  \\\n",
       "0           0  0CluAklouKBTc4lDdaumFh   \n",
       "1           1  0CluAklouKBTc4lDdaumFh   \n",
       "2           2  0CluAklouKBTc4lDdaumFh   \n",
       "3           3  0CluAklouKBTc4lDdaumFh   \n",
       "4           4  0CluAklouKBTc4lDdaumFh   \n",
       "\n",
       "                                       song_name                track_id  \\\n",
       "0                            A Face In The Crowd  4tSZr210OTY6upjNYfEYUI   \n",
       "1                                Run Of The Mill  3S574gsoQJl826YjsuRqSr   \n",
       "2  Out On The Weekend - Remastered Album Version  7DqktFsRwJa0XDFPMjV1xJ   \n",
       "3                                      Strangers  7obb4s6A7gf0Lc2AGxodMy   \n",
       "4                  Stephanie Says - Original Mix  7brL0ZuueQZUgpDgheNcqs   \n",
       "\n",
       "  user_id  Unnamed: 0  acousticness  \\\n",
       "0    eric           0        0.1100   \n",
       "1    eric           1        0.0303   \n",
       "2    eric           2        0.0967   \n",
       "3    eric           3        0.2530   \n",
       "4    eric           4        0.8510   \n",
       "\n",
       "                                        analysis_url  danceability  \\\n",
       "0  https://api.spotify.com/v1/audio-analysis/4tSZ...         0.699   \n",
       "1  https://api.spotify.com/v1/audio-analysis/3S57...         0.542   \n",
       "2  https://api.spotify.com/v1/audio-analysis/7Dqk...         0.673   \n",
       "3  https://api.spotify.com/v1/audio-analysis/7obb...         0.470   \n",
       "4  https://api.spotify.com/v1/audio-analysis/7brL...         0.556   \n",
       "\n",
       "   duration_ms   ...     liveness loudness  mode  speechiness    tempo  \\\n",
       "0       239307   ...       0.0600  -13.372     0       0.0272  105.568   \n",
       "1       171693   ...       0.1050   -7.864     0       0.0296  136.674   \n",
       "2       271933   ...       0.0809  -15.711     1       0.0387  136.748   \n",
       "3       198373   ...       0.1090   -9.337     1       0.0345  128.690   \n",
       "4       169560   ...       0.0965  -14.921     1       0.0332  112.894   \n",
       "\n",
       "   time_signature                                         track_href  \\\n",
       "0               4  https://api.spotify.com/v1/tracks/4tSZr210OTY6...   \n",
       "1               4  https://api.spotify.com/v1/tracks/3S574gsoQJl8...   \n",
       "2               4  https://api.spotify.com/v1/tracks/7DqktFsRwJa0...   \n",
       "3               4  https://api.spotify.com/v1/tracks/7obb4s6A7gf0...   \n",
       "4               4  https://api.spotify.com/v1/tracks/7brL0ZuueQZU...   \n",
       "\n",
       "             type                                   uri  valence  \n",
       "0  audio_features  spotify:track:4tSZr210OTY6upjNYfEYUI    0.755  \n",
       "1  audio_features  spotify:track:3S574gsoQJl826YjsuRqSr    0.788  \n",
       "2  audio_features  spotify:track:7DqktFsRwJa0XDFPMjV1xJ    0.641  \n",
       "3  audio_features  spotify:track:7obb4s6A7gf0Lc2AGxodMy    0.487  \n",
       "4  audio_features  spotify:track:7brL0ZuueQZUgpDgheNcqs    0.238  \n",
       "\n",
       "[5 rows x 24 columns]"
      ]
     },
     "execution_count": 105,
     "metadata": {},
     "output_type": "execute_result"
    }
   ],
   "source": [
    "tracks.head() "
   ]
  },
  {
   "cell_type": "markdown",
   "metadata": {},
   "source": [
    "With the frames merged, we can take a look at the averages of several audio variables for the users in our sample. "
   ]
  },
  {
   "cell_type": "code",
   "execution_count": 106,
   "metadata": {},
   "outputs": [
    {
     "data": {
      "text/html": [
       "<div>\n",
       "<style>\n",
       "    .dataframe thead tr:only-child th {\n",
       "        text-align: right;\n",
       "    }\n",
       "\n",
       "    .dataframe thead th {\n",
       "        text-align: left;\n",
       "    }\n",
       "\n",
       "    .dataframe tbody tr th {\n",
       "        vertical-align: top;\n",
       "    }\n",
       "</style>\n",
       "<table border=\"1\" class=\"dataframe\">\n",
       "  <thead>\n",
       "    <tr style=\"text-align: right;\">\n",
       "      <th></th>\n",
       "      <th>danceability</th>\n",
       "      <th>speechiness</th>\n",
       "      <th>valence</th>\n",
       "      <th>acousticness</th>\n",
       "      <th>liveness</th>\n",
       "      <th>instrumentalness</th>\n",
       "    </tr>\n",
       "    <tr>\n",
       "      <th>user_id</th>\n",
       "      <th></th>\n",
       "      <th></th>\n",
       "      <th></th>\n",
       "      <th></th>\n",
       "      <th></th>\n",
       "      <th></th>\n",
       "    </tr>\n",
       "  </thead>\n",
       "  <tbody>\n",
       "    <tr>\n",
       "      <th>ben</th>\n",
       "      <td>0.647743</td>\n",
       "      <td>0.141853</td>\n",
       "      <td>0.404665</td>\n",
       "      <td>0.124873</td>\n",
       "      <td>0.198092</td>\n",
       "      <td>0.099672</td>\n",
       "    </tr>\n",
       "    <tr>\n",
       "      <th>eric</th>\n",
       "      <td>0.547913</td>\n",
       "      <td>0.059988</td>\n",
       "      <td>0.507305</td>\n",
       "      <td>0.285941</td>\n",
       "      <td>0.193818</td>\n",
       "      <td>0.120558</td>\n",
       "    </tr>\n",
       "    <tr>\n",
       "      <th>gezim</th>\n",
       "      <td>0.581875</td>\n",
       "      <td>0.104463</td>\n",
       "      <td>0.459970</td>\n",
       "      <td>0.253121</td>\n",
       "      <td>0.187781</td>\n",
       "      <td>0.190666</td>\n",
       "    </tr>\n",
       "    <tr>\n",
       "      <th>luke</th>\n",
       "      <td>0.626285</td>\n",
       "      <td>0.135590</td>\n",
       "      <td>0.485235</td>\n",
       "      <td>0.165536</td>\n",
       "      <td>0.224188</td>\n",
       "      <td>0.036665</td>\n",
       "    </tr>\n",
       "    <tr>\n",
       "      <th>miranda</th>\n",
       "      <td>0.608070</td>\n",
       "      <td>0.122413</td>\n",
       "      <td>0.440569</td>\n",
       "      <td>0.203326</td>\n",
       "      <td>0.203441</td>\n",
       "      <td>0.048208</td>\n",
       "    </tr>\n",
       "  </tbody>\n",
       "</table>\n",
       "</div>"
      ],
      "text/plain": [
       "         danceability  speechiness   valence  acousticness  liveness  \\\n",
       "user_id                                                                \n",
       "ben          0.647743     0.141853  0.404665      0.124873  0.198092   \n",
       "eric         0.547913     0.059988  0.507305      0.285941  0.193818   \n",
       "gezim        0.581875     0.104463  0.459970      0.253121  0.187781   \n",
       "luke         0.626285     0.135590  0.485235      0.165536  0.224188   \n",
       "miranda      0.608070     0.122413  0.440569      0.203326  0.203441   \n",
       "\n",
       "         instrumentalness  \n",
       "user_id                    \n",
       "ben              0.099672  \n",
       "eric             0.120558  \n",
       "gezim            0.190666  \n",
       "luke             0.036665  \n",
       "miranda          0.048208  "
      ]
     },
     "execution_count": 106,
     "metadata": {},
     "output_type": "execute_result"
    }
   ],
   "source": [
    "tracks[['user_id','danceability','speechiness','valence','acousticness','liveness','instrumentalness']]\\\n",
    ".groupby('user_id').mean() "
   ]
  },
  {
   "cell_type": "markdown",
   "metadata": {},
   "source": [
    "Since we will be looking at valence, It'll also be informative to look at the distribution of valence for a few of the users in our sample."
   ]
  },
  {
   "cell_type": "code",
   "execution_count": 101,
   "metadata": {},
   "outputs": [
    {
     "data": {
      "image/png": "[encoded data removed]",
      "text/plain": [
       "<matplotlib.figure.Figure at 0x1141bea90>"
      ]
     },
     "metadata": {},
     "output_type": "display_data"
    },
    {
     "data": {
      "image/png": "[encoded data removed]",
      "text/plain": [
       "<matplotlib.figure.Figure at 0x113741cc0>"
      ]
     },
     "metadata": {},
     "output_type": "display_data"
    }
   ],
   "source": [
    "sub_track = tracks [['user_id','valence']].set_index('user_id')\n",
    "sub_track.loc['eric',:].hist(alpha=0.5, label='eric')\n",
    "sub_track.loc['miranda',:].hist(alpha=0.5, label='miranda')\n",
    "plt.legend(loc='upper right')\n",
    "plt.show()"
   ]
  },
  {
   "cell_type": "markdown",
   "metadata": {},
   "source": [
    "It looks like songs in my own playlists might be more skewed towards being more valent, than my partners. "
   ]
  },
  {
   "cell_type": "markdown",
   "metadata": {},
   "source": [
    "## Main Analysis "
   ]
  },
  {
   "cell_type": "markdown",
   "metadata": {},
   "source": [
    "### Question 1: Who has the highest average valence in our sample?"
   ]
  },
  {
   "cell_type": "markdown",
   "metadata": {},
   "source": [
    "![bar](Bar Graph.JPG)"
   ]
  },
  {
   "cell_type": "markdown",
   "metadata": {},
   "source": [
    "The bar graph above provides an answer to our first question showing that I have the highest average valence among my playlists with Luke trailing close behind. Overall, it is interesting to note that the average for valence for all the sampled users is fairly close sitting at around 50%, perhaps a somewhat dualistic message about life. "
   ]
  },
  {
   "cell_type": "markdown",
   "metadata": {},
   "source": [
    "### Question 2: What are the playlists, and songs within these playlists with the highest valence?"
   ]
  },
  {
   "cell_type": "markdown",
   "metadata": {},
   "source": [
    "![maps](Map.JPG)"
   ]
  },
  {
   "cell_type": "markdown",
   "metadata": {},
   "source": [
    "The graph above answers the first part of Question 2 showing that the playlists with the highest valence are Geoff, get groovin, one of these crazy old nights, WDUB Mentorship, island livin, and JingleBells. Out of these six most valent playlist three belong to Miranda, showing that while she doesn't have the highest average valence she has produced some of the most valent playlists in our sample. Some of these playlists even have names that would suggest higher valence such as \"island livin\", or \"get groovin\". Another interesting observation is that one of these playlists Geoff is shared by both myself, and Luke. "
   ]
  },
  {
   "cell_type": "code",
   "execution_count": 109,
   "metadata": {},
   "outputs": [
    {
     "data": {
      "text/html": [
       "<div>\n",
       "<style>\n",
       "    .dataframe thead tr:only-child th {\n",
       "        text-align: right;\n",
       "    }\n",
       "\n",
       "    .dataframe thead th {\n",
       "        text-align: left;\n",
       "    }\n",
       "\n",
       "    .dataframe tbody tr th {\n",
       "        vertical-align: top;\n",
       "    }\n",
       "</style>\n",
       "<table border=\"1\" class=\"dataframe\">\n",
       "  <thead>\n",
       "    <tr style=\"text-align: right;\">\n",
       "      <th></th>\n",
       "      <th>song_name</th>\n",
       "      <th>valence</th>\n",
       "    </tr>\n",
       "    <tr>\n",
       "      <th>user_id</th>\n",
       "      <th></th>\n",
       "      <th></th>\n",
       "    </tr>\n",
       "  </thead>\n",
       "  <tbody>\n",
       "    <tr>\n",
       "      <th>luke</th>\n",
       "      <td>Last Christmas</td>\n",
       "      <td>0.981</td>\n",
       "    </tr>\n",
       "    <tr>\n",
       "      <th>gezim</th>\n",
       "      <td>Two Weeks</td>\n",
       "      <td>0.976</td>\n",
       "    </tr>\n",
       "    <tr>\n",
       "      <th>eric</th>\n",
       "      <td>Peg</td>\n",
       "      <td>0.972</td>\n",
       "    </tr>\n",
       "    <tr>\n",
       "      <th>eric</th>\n",
       "      <td>Moonage Daydream - 2012 Remastered Version</td>\n",
       "      <td>0.966</td>\n",
       "    </tr>\n",
       "    <tr>\n",
       "      <th>eric</th>\n",
       "      <td>A Dream of You and Me</td>\n",
       "      <td>0.966</td>\n",
       "    </tr>\n",
       "  </tbody>\n",
       "</table>\n",
       "</div>"
      ],
      "text/plain": [
       "                                          song_name  valence\n",
       "user_id                                                     \n",
       "luke                                 Last Christmas    0.981\n",
       "gezim                                     Two Weeks    0.976\n",
       "eric                                            Peg    0.972\n",
       "eric     Moonage Daydream - 2012 Remastered Version    0.966\n",
       "eric                          A Dream of You and Me    0.966"
      ]
     },
     "execution_count": 109,
     "metadata": {},
     "output_type": "execute_result"
    }
   ],
   "source": [
    "tracks[['song_name','valence','user_id']].sort_values(by='valence',ascending=False).set_index('user_id').head(5)"
   ]
  },
  {
   "cell_type": "markdown",
   "metadata": {},
   "source": [
    "The table above answer the second part of Question 2 by showing the top 5 most valent songs in our sample. At number one, sits Last Christmas a familiar Christmas tune with a near perfect valence score. "
   ]
  },
  {
   "cell_type": "markdown",
   "metadata": {},
   "source": [
    "### Question 3: What other audio variables explain some of the variance in valence?"
   ]
  },
  {
   "cell_type": "markdown",
   "metadata": {},
   "source": [
    "![relation](Relation 1.JPG)"
   ]
  },
  {
   "cell_type": "markdown",
   "metadata": {},
   "source": [
    "Based on the figure above, it seems that we have some evidence for our hypothesis that playlists with higher danceability will have higher valence, which seems to mesh well with common sense. An interesting feature of this figure is that a playlist named Study Music has the lowest valence, and danceability, which only seems fitting for a study playlist. On the other hand, playlists with some of the highest valence, and danceability have names like get groovin, and island livin (which we saw in the previous figure). This just might explain why we aren't hearing many Radio Head songs at parties. "
   ]
  },
  {
   "cell_type": "markdown",
   "metadata": {},
   "source": [
    "![relation](Relation 2 .JPG)"
   ]
  },
  {
   "cell_type": "markdown",
   "metadata": {},
   "source": [
    "Based on the figure above, it seems that we have don't have much evidence for our hypothesis that playlists that are more \"wordy\" will have lower valence, which we find to be perhaps a somewhat optimistic finding about word usage in music. Once again, Study Music sits low on both axes, demonstrating the neutral features of good Study playlist. While a playlist going by the name \"the wu is eternal\" sits relatively high on the \"speechiness\" scale, which makes sense considering the Wu-tang clan is known for the lyrical ingenuity. "
   ]
  },
  {
   "cell_type": "markdown",
   "metadata": {},
   "source": [
    "## Conclusion: \n",
    "Overall, we have shown that the spotify provides a wealth of information on listening behaviors such as being able to generalize the \"valence\", or happiness of the playlists you listen to, and how other audio features come together to define a playlist, whether it be for studying, or partying (two aspects of many college students lives). "
   ]
  },
  {
   "cell_type": "code",
   "execution_count": null,
   "metadata": {
    "collapsed": true
   },
   "outputs": [],
   "source": []
  }
 ],
 "metadata": {
  "kernelspec": {
   "display_name": "Python 3",
   "language": "python",
   "name": "python3"
  },
  "language_info": {
   "codemirror_mode": {
    "name": "ipython",
    "version": 3
   },
   "file_extension": ".py",
   "mimetype": "text/x-python",
   "name": "python",
   "nbconvert_exporter": "python",
   "pygments_lexer": "ipython3",
   "version": "3.6.1"
  }
 },
 "nbformat": 4,
 "nbformat_minor": 2
}
