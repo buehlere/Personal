{
 "cells": [
  {
   "cell_type": "markdown",
   "metadata": {},
   "source": [
    "# Notebook 02: Data acquisition notebook"
   ]
  },
  {
   "cell_type": "markdown",
   "metadata": {},
   "source": [
    "## Goal: \n",
    "The goal of this notebook is to use functional abstraction to create three pandas data frames, which conatain spotify data for all the users we have tokens for, without running into any connection issues. The first data frame, the playlists data frame,  will include information on the users' playlists (playlist ID, playlist name). The second frame, the tracks data frame, will include information on the tracks within the users' playlists (track name, track ID, playlist ID). The third, the audio data frame, will contain the audio data on the tracks in the tracks data frame. The tracks data frame can be thought of as the linking table between the playlists, and audio data frames. We will use this data to conduct on audio analysis on our sampled users' playlists. "
   ]
  },
  {
   "cell_type": "markdown",
   "metadata": {},
   "source": [
    "## Start and Refresh Function: "
   ]
  },
  {
   "cell_type": "code",
   "execution_count": 28,
   "metadata": {
    "collapsed": true
   },
   "outputs": [],
   "source": [
    "#set-up\n",
    "import requests\n",
    "from requests_oauthlib import OAuth2Session\n",
    "import importlib\n",
    "import json\n",
    "import pprint\n",
    "import pandas as pd\n",
    "pp = pprint.PrettyPrinter(indent=2)"
   ]
  },
  {
   "cell_type": "code",
   "execution_count": 146,
   "metadata": {
    "collapsed": true
   },
   "outputs": [],
   "source": [
    "def start(user): \n",
    "    '''\n",
    "    the purpose of this function is to start a session for a user with the spotify api. The function re-freshes \n",
    "    the users token if necessary. \n",
    "    parameters: \n",
    "        -user: a string that specifies, which user the function should start a session for \n",
    "    return values: \n",
    "        -keychain: a .txt file that acts as a user's keychain with an up to date token \n",
    "        -token: a dictionary that contains the user's token \n",
    "        -current_user: a string that specifies the user of a given session with the spotify api. \n",
    "    '''\n",
    "    current_user = user \n",
    "    with open('keychain.txt') as json_file: #loads keychain \n",
    "        keychain = json.load(json_file)\n",
    "    token = keychain['spotify']['owners'][user] \n",
    "    client_id = keychain['spotify']['client_id']\n",
    "    redirect = keychain['spotify']['redirect_uris'][1]\n",
    "    session = OAuth2Session(client_id, token=token) #creates session \n",
    "    D = {} \n",
    "    D = token['access_token']\n",
    "    url = 'https://api.spotify.com/v1/me'\n",
    "    response = requests.get(url,params=token)\n",
    "    if response.status_code != 200: #checks if the connection isn't valid \n",
    "        keychain,token = refresh(keychain,token,session,user) #calls the refresh function to update token \n",
    "        return keychain, token, current_user\n",
    "    else: \n",
    "        return keychain, token, current_user "
   ]
  },
  {
   "cell_type": "markdown",
   "metadata": {},
   "source": [
    "**Additional Comments**: \n",
    "* I think the biggest challenge of getting these functions to work was conceptualize the idea of loading, and writing to the text file, which contained the users tokens. Additionally, we wanted a function that could start a session for any user, but also handle refreshing, thus we included the refresh function within the start function. Thus if any connection fails, only the start function needs be called, effectively restarting any sesssion. "
   ]
  },
  {
   "cell_type": "code",
   "execution_count": 96,
   "metadata": {
    "collapsed": true
   },
   "outputs": [],
   "source": [
    "def refresh(keychain,token,session,user):\n",
    "    '''\n",
    "    the purpose of this function is to refresh the token of the user, who is attempting to start a session \n",
    "    with the spotify api. \n",
    "    parameters: \n",
    "        -keychain: a .txt file that acts as a user's keychain with an expired token \n",
    "        -token: the user's expired token \n",
    "        -session: an oAuth object that represent the session that is trying to be established. \n",
    "        -user: a string that specifies, which user the function should start a session for \n",
    "    return values: \n",
    "        -keychain: a .txt file that acts as a user's keychain with an up to date token \n",
    "        -token: a dictionary that contains the user's up to date token \n",
    "    '''\n",
    "    refresh_url = keychain['spotify']['token_uri']\n",
    "    token = session.refresh_token(refresh_url, #refreshes token \n",
    "            client_id=keychain['spotify']['client_id'],\n",
    "            client_secret=keychain['spotify']['client_secret'])\n",
    "    keychain['spotify']['owners'][user] = token\n",
    "    with open('keychain.txt', 'w') as outfile: #writes to keychain \n",
    "        json.dump(keychain, outfile)\n",
    "    with open('keychain.txt') as json_file:  #re-loads keychain \n",
    "        keychain = json.load(json_file)\n",
    "    \n",
    "    return keychain, token \n"
   ]
  },
  {
   "cell_type": "markdown",
   "metadata": {},
   "source": [
    "## Frame Creation for a single user "
   ]
  },
  {
   "cell_type": "code",
   "execution_count": 97,
   "metadata": {
    "collapsed": true
   },
   "outputs": [],
   "source": [
    "def userIO(token,current_user): \n",
    "    '''\n",
    "    the purpose of this function is to access the current user's id info, which is necessary for various queries \n",
    "    to the spotify API.\n",
    "    parameters: \n",
    "        -token: a dictionary that contains the user's token \n",
    "        -current_user: a string that specifies the user of a given session with the spotify api. \n",
    "    return values: \n",
    "        -user_info: a string containing the current user's spotify id information \n",
    "    '''\n",
    "    D = {}\n",
    "    D['access_token'] = token['access_token']\n",
    "    url = 'https://api.spotify.com/v1/me'\n",
    "    response = requests.get(url, params=D)\n",
    "    if response != 200: #restart session if the token has expired \n",
    "        start(current_user)\n",
    "    user_info = json.loads(response.text)\n",
    "    return user_info['id']\n",
    "\n",
    "user_id = userIO(token,current_user)"
   ]
  },
  {
   "cell_type": "code",
   "execution_count": 187,
   "metadata": {
    "collapsed": true
   },
   "outputs": [],
   "source": [
    "def playlists(user_id,current_user,token): \n",
    "    '''\n",
    "    The purpose of this function is twofold. First the function compiles a list of playlist ids \n",
    "    for the current user's playlists, which will be used in the tracks function to get information about the track. \n",
    "    Second, the function creates a pandas data frame of all of the user's playlists. \n",
    "    parameters: \n",
    "        -user_id: a string containing the current user's spotify id information, returned from userIO function\n",
    "        -token: a dictionary that contains the user's token \n",
    "        -current_user: a string that specifies the user of a given session with the spotify api. \n",
    "    return values: \n",
    "        -playlistDf: a pandas data frame of the user's playlist names and ids as well as the current user's \n",
    "        id, which will serve as a kind of foreign key. \n",
    "        -playlists_id: a list of the playlist_ids, which will be used to find track info.\n",
    "    '''\n",
    "    D = {} \n",
    "    playlist_table = [] #list of dictionaries for all playlists\n",
    "    playlists_id = [] \n",
    "    D['access_token'] = token['access_token']\n",
    "    url = 'https://api.spotify.com/v1/users/{}/playlists'\n",
    "    response = requests.get(url.format(user_id), params=D)\n",
    "    try: \n",
    "        start(current_user) #makes sure session is valid \n",
    "        playlists = json.loads(response.text)\n",
    "        for item in range(len(playlists['items'])): \n",
    "            table_dic = {} #builds a dictionary containing essential data for a single playlist \n",
    "            table_dic['user_id'] = user_id\n",
    "            table_dic['playlist_id'] = playlists['items'][item]['id']\n",
    "            table_dic['name'] = playlists['items'][item]['name']\n",
    "            playlist_table.append(table_dic)\n",
    "            playlist_id = playlists['items'][item]['id']\n",
    "            playlists_id.append(playlist_id) #appends dictionary to list \n",
    "    except: #some of the playlist data is prohibted, so this except lets us skip over the prohibited data \n",
    "        pass \n",
    "    playlistDf = pd.DataFrame(playlist_table)\n",
    "    return playlistDf, tracks_url"
   ]
  },
  {
   "cell_type": "code",
   "execution_count": 199,
   "metadata": {
    "collapsed": true
   },
   "outputs": [],
   "source": [
    "def tracks(user_id, tracks_url,current_user,token): \n",
    "    '''\n",
    "    The purpose of this function is twofold. First the function compiles a list of lists of the track ids, \n",
    "    which will be used in the audio function to get the songs audio information. Second, the function creates \n",
    "    a pandas data frame of all of the names and ids of all of the tracks in the user's playlists, along with \n",
    "    the current user's id. \n",
    "    parameters: \n",
    "        -user_id: a string containing the current user's spotify id information, returned from userIO function\n",
    "        -token: a dictionary that contains the user's token \n",
    "        -current_user: a string that specifies the user of a given session with the spotify api. \n",
    "        -tracks_url\n",
    "    return values: \n",
    "        -track_df: a pandas data frame of all of the names and ids for all of the tracks in the user's playlists, \n",
    "        along with the current user's id. \n",
    "        -track_ids: a list of lists of the track ids. \n",
    "    '''\n",
    "    D = {} \n",
    "    D['access_token'] = token['access_token']\n",
    "    url = 'https://api.spotify.com/v1/users/{}/playlists/{}/tracks'\n",
    "    track_ids = [] #stores track ids \n",
    "    track_table = []\n",
    "    for item in tracks_url: \n",
    "        response = requests.get(url.format(user_id,item), params=D)\n",
    "        try: \n",
    "            start(current_user)\n",
    "            tracks = json.loads(response.text) #loads playlists track urls \n",
    "            playlist_tracks = []\n",
    "            for items in range(len(tracks['items'])): #parses through playlists ids  \n",
    "                playlist_dict = {}\n",
    "                append_track = tracks['items'][items]['track']['id']\n",
    "                playlist_tracks.append(append_track)\n",
    "                playlist_dict['track_id'] = tracks['items'][items]['track']['id']\n",
    "                playlist_dict['song_name'] = tracks['items'][items]['track']['name']\n",
    "                playlist_dict['user_id'] =  user_id\n",
    "                playlist_dict['playlist_id'] = item\n",
    "                track_table.append(playlist_dict)\n",
    "            track_ids.append(playlist_tracks)\n",
    "            track_table.append(playlist_dict)\n",
    "        except: \n",
    "            pass \n",
    "    track_df = pd.DataFrame(track_table)\n",
    "    return track_ids, track_df #creates data frame, and passes along track ids to the audio function. \n",
    "\n"
   ]
  },
  {
   "cell_type": "code",
   "execution_count": 20,
   "metadata": {
    "collapsed": true
   },
   "outputs": [],
   "source": [
    "def audio(user_id, track_ids,current_user,token):\n",
    "    '''\n",
    "    The purpose of this function is to create a data frame of all of the audio data for the tracks in the user's\n",
    "    playlists. \n",
    "    parameters: \n",
    "        -user_id: a string containing the current user's spotify id information, returned from userIO function\n",
    "        -token: a dictionary that contains the user's token \n",
    "        -current_user: a string that specifies the user of a given session with the spotify api. \n",
    "        -track_ids: a list of lists of the track ids. \n",
    "    return values: \n",
    "       -songsDf: a pandas data frame of all of the audio data for the tracks in the user's playlists. \n",
    "    '''\n",
    "    D = {} \n",
    "    D['access_token'] = token['access_token']\n",
    "    url = 'https://api.spotify.com/v1/audio-features/?ids={}'\n",
    "    song_table = []\n",
    "    for items in track_ids:\n",
    "        '''\n",
    "        transforms list of track urls into a single string of comma seperated track urls, which allows the \n",
    "        function to get audio data for multiple tracks, which is much more efficient than getting them one by one.\n",
    "        '''\n",
    "        filter_track = list(filter(None, items))\n",
    "        track_url = \",\".join(filter_track) \n",
    "        response = requests.get(url.format(track_url), params=D)\n",
    "        try: \n",
    "            start(current_user)\n",
    "            songs = json.loads(response.text)\n",
    "            for item in range(len(songs['audio_features'])): \n",
    "                append_dic = songs['audio_features'][item]\n",
    "                song_table.append(append_dic)\n",
    "        except: \n",
    "            pass\n",
    "    songsDf = pd.DataFrame(song_table)\n",
    "    return songsDf       "
   ]
  },
  {
   "cell_type": "markdown",
   "metadata": {},
   "source": [
    "**Additional Comments**: \n",
    "* The biggest challenge with these function was making sure that each function was able to grab the correct data from the spotify endpoint, create the appropriate data frame, and pass a part of that data to the next function. For example, originally the playlist function passed a list of urls that linked directly to the track information to the track function. However this made it near impossible to get the playlist ids in the tracks data frame, which was crucial to how the data frames related to eachother. In honesty, the tracks and playlist functions should probably be split into two. Lastly, we had to figure out how to do a get request on the audio data for mutiple tracks at a time otherwise the function took 5 minutes to run (see comment in code). "
   ]
  },
  {
   "cell_type": "markdown",
   "metadata": {},
   "source": [
    "## Build Function: Creating Frames for multiple users"
   ]
  },
  {
   "cell_type": "code",
   "execution_count": 200,
   "metadata": {
    "collapsed": true
   },
   "outputs": [],
   "source": [
    "def builder(users): \n",
    "    '''\n",
    "    The purpose of this function is to iterate over the previously defined functions to get the spotify data \n",
    "    for each of the users we have tokens for, and concatenate their data together. \n",
    "    parameters: \n",
    "        -users: a list of some, or all the users we have tokens for \n",
    "    return values: \n",
    "        -playlist_main: the data frame created by the playlists function, but contains all users info. \n",
    "        -track_main: the data frame created by the tracks function, but contains all users info. \n",
    "        -audio_main: the data frame created by the audio function, but contains all users info. \n",
    "    '''\n",
    "    playlist_merge = [] \n",
    "    track_merge = []\n",
    "    audio_merge = []\n",
    "    for user in users:\n",
    "        keychain, token, current_user = start(user)\n",
    "        user_id = userIO(token,current_user) \n",
    "        \n",
    "        playlistDf, tracks_url = playlists(user_id,current_user,token) \n",
    "        playlist_merge.append(playlistDf)\n",
    "        \n",
    "        track_ids,track_df = tracks(user_id, tracks_url,current_user,token)\n",
    "        track_merge.append(track_df)\n",
    "        \n",
    "        audioframe = audio(user_id,track_ids,current_user,token)\n",
    "        audio_merge.append(audioframe)\n",
    "        \n",
    "    playlist_main = pd.concat(playlist_merge) #concatenates dataframes together \n",
    "    track_main = pd.concat(track_merge)\n",
    "    audio_main = pd.concat(audio_merge) \n",
    "    \n",
    "    return playlist_main,track_main,audio_main\n",
    "    "
   ]
  },
  {
   "cell_type": "markdown",
   "metadata": {},
   "source": [
    "**Additional Comments**: \n",
    "* This function was pretty straight forward to create. It simply generalizes the steps for a single session to multiple. The hardest part was making sure the data frame function were working properly, and efficiently. We probably made this function a little too earlier."
   ]
  },
  {
   "cell_type": "markdown",
   "metadata": {},
   "source": [
    "## Checking Results "
   ]
  },
  {
   "cell_type": "code",
   "execution_count": 246,
   "metadata": {
    "collapsed": true
   },
   "outputs": [],
   "source": [
    "playlist_df, track_df, audio_df = builder(['eric','miranda','gezim','luke','ben'])\n"
   ]
  },
  {
   "cell_type": "code",
   "execution_count": 237,
   "metadata": {},
   "outputs": [
    {
     "data": {
      "text/plain": [
       "array(['eric', 'miranda', 'gezim', 'luke', 'ben'], dtype=object)"
      ]
     },
     "execution_count": 237,
     "metadata": {},
     "output_type": "execute_result"
    }
   ],
   "source": [
    "#rename ideas for analysis \n",
    "track_df['user_id'] = track_df['user_id'].replace('1266353543','eric')\n",
    "track_df['user_id'] = track_df['user_id'].replace('mirandaarina','miranda')\n",
    "track_df['user_id'] = track_df['user_id'].replace('1216177234','gezim')\n",
    "track_df['user_id'] = track_df['user_id'].replace('125346134','luke')\n",
    "track_df['user_id'] = track_df['user_id'].replace('benliepert','ben')\n",
    "track_df['user_id'].unique()"
   ]
  },
  {
   "cell_type": "code",
   "execution_count": 247,
   "metadata": {},
   "outputs": [
    {
     "name": "stdout",
     "output_type": "stream",
     "text": [
      "72\n"
     ]
    },
    {
     "data": {
      "text/html": [
       "<div>\n",
       "<style>\n",
       "    .dataframe thead tr:only-child th {\n",
       "        text-align: right;\n",
       "    }\n",
       "\n",
       "    .dataframe thead th {\n",
       "        text-align: left;\n",
       "    }\n",
       "\n",
       "    .dataframe tbody tr th {\n",
       "        vertical-align: top;\n",
       "    }\n",
       "</style>\n",
       "<table border=\"1\" class=\"dataframe\">\n",
       "  <thead>\n",
       "    <tr style=\"text-align: right;\">\n",
       "      <th></th>\n",
       "      <th>name</th>\n",
       "      <th>playlist_id</th>\n",
       "      <th>user_id</th>\n",
       "    </tr>\n",
       "  </thead>\n",
       "  <tbody>\n",
       "    <tr>\n",
       "      <th>0</th>\n",
       "      <td>Your Top Songs 2017</td>\n",
       "      <td>37i9dQZF1E9UBfOE5yO2Rg</td>\n",
       "      <td>1266353543</td>\n",
       "    </tr>\n",
       "    <tr>\n",
       "      <th>1</th>\n",
       "      <td>The Ones That Got Away</td>\n",
       "      <td>37i9dQZF1Eak9mtZUi93hp</td>\n",
       "      <td>1266353543</td>\n",
       "    </tr>\n",
       "    <tr>\n",
       "      <th>2</th>\n",
       "      <td>Passed</td>\n",
       "      <td>0CluAklouKBTc4lDdaumFh</td>\n",
       "      <td>1266353543</td>\n",
       "    </tr>\n",
       "    <tr>\n",
       "      <th>3</th>\n",
       "      <td>DJ</td>\n",
       "      <td>5xQcD38XyjsbveWoXufZ04</td>\n",
       "      <td>1266353543</td>\n",
       "    </tr>\n",
       "    <tr>\n",
       "      <th>4</th>\n",
       "      <td>House</td>\n",
       "      <td>2ueo7tfdlg5DF08XxLFLEQ</td>\n",
       "      <td>1266353543</td>\n",
       "    </tr>\n",
       "  </tbody>\n",
       "</table>\n",
       "</div>"
      ],
      "text/plain": [
       "                     name             playlist_id     user_id\n",
       "0     Your Top Songs 2017  37i9dQZF1E9UBfOE5yO2Rg  1266353543\n",
       "1  The Ones That Got Away  37i9dQZF1Eak9mtZUi93hp  1266353543\n",
       "2                  Passed  0CluAklouKBTc4lDdaumFh  1266353543\n",
       "3                      DJ  5xQcD38XyjsbveWoXufZ04  1266353543\n",
       "4                   House  2ueo7tfdlg5DF08XxLFLEQ  1266353543"
      ]
     },
     "execution_count": 247,
     "metadata": {},
     "output_type": "execute_result"
    }
   ],
   "source": [
    "print(len(playlist_df))\n",
    "playlist_df.head()"
   ]
  },
  {
   "cell_type": "code",
   "execution_count": 233,
   "metadata": {},
   "outputs": [
    {
     "name": "stdout",
     "output_type": "stream",
     "text": [
      "2148\n"
     ]
    },
    {
     "data": {
      "text/html": [
       "<div>\n",
       "<style>\n",
       "    .dataframe thead tr:only-child th {\n",
       "        text-align: right;\n",
       "    }\n",
       "\n",
       "    .dataframe thead th {\n",
       "        text-align: left;\n",
       "    }\n",
       "\n",
       "    .dataframe tbody tr th {\n",
       "        vertical-align: top;\n",
       "    }\n",
       "</style>\n",
       "<table border=\"1\" class=\"dataframe\">\n",
       "  <thead>\n",
       "    <tr style=\"text-align: right;\">\n",
       "      <th></th>\n",
       "      <th>playlist_id</th>\n",
       "      <th>song_name</th>\n",
       "      <th>track_id</th>\n",
       "      <th>user_id</th>\n",
       "    </tr>\n",
       "  </thead>\n",
       "  <tbody>\n",
       "    <tr>\n",
       "      <th>0</th>\n",
       "      <td>0CluAklouKBTc4lDdaumFh</td>\n",
       "      <td>A Face In The Crowd</td>\n",
       "      <td>4tSZr210OTY6upjNYfEYUI</td>\n",
       "      <td>1266353543</td>\n",
       "    </tr>\n",
       "    <tr>\n",
       "      <th>1</th>\n",
       "      <td>0CluAklouKBTc4lDdaumFh</td>\n",
       "      <td>Run Of The Mill</td>\n",
       "      <td>3S574gsoQJl826YjsuRqSr</td>\n",
       "      <td>1266353543</td>\n",
       "    </tr>\n",
       "    <tr>\n",
       "      <th>2</th>\n",
       "      <td>0CluAklouKBTc4lDdaumFh</td>\n",
       "      <td>Out On The Weekend - Remastered Album Version</td>\n",
       "      <td>7DqktFsRwJa0XDFPMjV1xJ</td>\n",
       "      <td>1266353543</td>\n",
       "    </tr>\n",
       "    <tr>\n",
       "      <th>3</th>\n",
       "      <td>0CluAklouKBTc4lDdaumFh</td>\n",
       "      <td>Strangers</td>\n",
       "      <td>7obb4s6A7gf0Lc2AGxodMy</td>\n",
       "      <td>1266353543</td>\n",
       "    </tr>\n",
       "    <tr>\n",
       "      <th>4</th>\n",
       "      <td>0CluAklouKBTc4lDdaumFh</td>\n",
       "      <td>Stephanie Says - Original Mix</td>\n",
       "      <td>7brL0ZuueQZUgpDgheNcqs</td>\n",
       "      <td>1266353543</td>\n",
       "    </tr>\n",
       "  </tbody>\n",
       "</table>\n",
       "</div>"
      ],
      "text/plain": [
       "              playlist_id                                      song_name  \\\n",
       "0  0CluAklouKBTc4lDdaumFh                            A Face In The Crowd   \n",
       "1  0CluAklouKBTc4lDdaumFh                                Run Of The Mill   \n",
       "2  0CluAklouKBTc4lDdaumFh  Out On The Weekend - Remastered Album Version   \n",
       "3  0CluAklouKBTc4lDdaumFh                                      Strangers   \n",
       "4  0CluAklouKBTc4lDdaumFh                  Stephanie Says - Original Mix   \n",
       "\n",
       "                 track_id     user_id  \n",
       "0  4tSZr210OTY6upjNYfEYUI  1266353543  \n",
       "1  3S574gsoQJl826YjsuRqSr  1266353543  \n",
       "2  7DqktFsRwJa0XDFPMjV1xJ  1266353543  \n",
       "3  7obb4s6A7gf0Lc2AGxodMy  1266353543  \n",
       "4  7brL0ZuueQZUgpDgheNcqs  1266353543  "
      ]
     },
     "execution_count": 233,
     "metadata": {},
     "output_type": "execute_result"
    }
   ],
   "source": [
    "print(len(track_df))\n",
    "track_df.head()\n"
   ]
  },
  {
   "cell_type": "code",
   "execution_count": 236,
   "metadata": {},
   "outputs": [
    {
     "name": "stdout",
     "output_type": "stream",
     "text": [
      "2092\n"
     ]
    },
    {
     "data": {
      "text/html": [
       "<div>\n",
       "<style>\n",
       "    .dataframe thead tr:only-child th {\n",
       "        text-align: right;\n",
       "    }\n",
       "\n",
       "    .dataframe thead th {\n",
       "        text-align: left;\n",
       "    }\n",
       "\n",
       "    .dataframe tbody tr th {\n",
       "        vertical-align: top;\n",
       "    }\n",
       "</style>\n",
       "<table border=\"1\" class=\"dataframe\">\n",
       "  <thead>\n",
       "    <tr style=\"text-align: right;\">\n",
       "      <th></th>\n",
       "      <th>acousticness</th>\n",
       "      <th>analysis_url</th>\n",
       "      <th>danceability</th>\n",
       "      <th>duration_ms</th>\n",
       "      <th>energy</th>\n",
       "      <th>id</th>\n",
       "      <th>instrumentalness</th>\n",
       "      <th>key</th>\n",
       "      <th>liveness</th>\n",
       "      <th>loudness</th>\n",
       "      <th>mode</th>\n",
       "      <th>speechiness</th>\n",
       "      <th>tempo</th>\n",
       "      <th>time_signature</th>\n",
       "      <th>track_href</th>\n",
       "      <th>type</th>\n",
       "      <th>uri</th>\n",
       "      <th>valence</th>\n",
       "    </tr>\n",
       "  </thead>\n",
       "  <tbody>\n",
       "    <tr>\n",
       "      <th>0</th>\n",
       "      <td>0.1100</td>\n",
       "      <td>https://api.spotify.com/v1/audio-analysis/4tSZ...</td>\n",
       "      <td>0.699</td>\n",
       "      <td>239307</td>\n",
       "      <td>0.610</td>\n",
       "      <td>4tSZr210OTY6upjNYfEYUI</td>\n",
       "      <td>0.001880</td>\n",
       "      <td>4</td>\n",
       "      <td>0.0600</td>\n",
       "      <td>-13.372</td>\n",
       "      <td>0</td>\n",
       "      <td>0.0272</td>\n",
       "      <td>105.568</td>\n",
       "      <td>4</td>\n",
       "      <td>https://api.spotify.com/v1/tracks/4tSZr210OTY6...</td>\n",
       "      <td>audio_features</td>\n",
       "      <td>spotify:track:4tSZr210OTY6upjNYfEYUI</td>\n",
       "      <td>0.755</td>\n",
       "    </tr>\n",
       "    <tr>\n",
       "      <th>1</th>\n",
       "      <td>0.0303</td>\n",
       "      <td>https://api.spotify.com/v1/audio-analysis/3S57...</td>\n",
       "      <td>0.542</td>\n",
       "      <td>171693</td>\n",
       "      <td>0.643</td>\n",
       "      <td>3S574gsoQJl826YjsuRqSr</td>\n",
       "      <td>0.007070</td>\n",
       "      <td>11</td>\n",
       "      <td>0.1050</td>\n",
       "      <td>-7.864</td>\n",
       "      <td>0</td>\n",
       "      <td>0.0296</td>\n",
       "      <td>136.674</td>\n",
       "      <td>4</td>\n",
       "      <td>https://api.spotify.com/v1/tracks/3S574gsoQJl8...</td>\n",
       "      <td>audio_features</td>\n",
       "      <td>spotify:track:3S574gsoQJl826YjsuRqSr</td>\n",
       "      <td>0.788</td>\n",
       "    </tr>\n",
       "    <tr>\n",
       "      <th>2</th>\n",
       "      <td>0.0967</td>\n",
       "      <td>https://api.spotify.com/v1/audio-analysis/7Dqk...</td>\n",
       "      <td>0.673</td>\n",
       "      <td>271933</td>\n",
       "      <td>0.265</td>\n",
       "      <td>7DqktFsRwJa0XDFPMjV1xJ</td>\n",
       "      <td>0.033600</td>\n",
       "      <td>9</td>\n",
       "      <td>0.0809</td>\n",
       "      <td>-15.711</td>\n",
       "      <td>1</td>\n",
       "      <td>0.0387</td>\n",
       "      <td>136.748</td>\n",
       "      <td>4</td>\n",
       "      <td>https://api.spotify.com/v1/tracks/7DqktFsRwJa0...</td>\n",
       "      <td>audio_features</td>\n",
       "      <td>spotify:track:7DqktFsRwJa0XDFPMjV1xJ</td>\n",
       "      <td>0.641</td>\n",
       "    </tr>\n",
       "    <tr>\n",
       "      <th>3</th>\n",
       "      <td>0.2530</td>\n",
       "      <td>https://api.spotify.com/v1/audio-analysis/7obb...</td>\n",
       "      <td>0.470</td>\n",
       "      <td>198373</td>\n",
       "      <td>0.397</td>\n",
       "      <td>7obb4s6A7gf0Lc2AGxodMy</td>\n",
       "      <td>0.000013</td>\n",
       "      <td>0</td>\n",
       "      <td>0.1090</td>\n",
       "      <td>-9.337</td>\n",
       "      <td>1</td>\n",
       "      <td>0.0345</td>\n",
       "      <td>128.690</td>\n",
       "      <td>4</td>\n",
       "      <td>https://api.spotify.com/v1/tracks/7obb4s6A7gf0...</td>\n",
       "      <td>audio_features</td>\n",
       "      <td>spotify:track:7obb4s6A7gf0Lc2AGxodMy</td>\n",
       "      <td>0.487</td>\n",
       "    </tr>\n",
       "    <tr>\n",
       "      <th>4</th>\n",
       "      <td>0.8510</td>\n",
       "      <td>https://api.spotify.com/v1/audio-analysis/7brL...</td>\n",
       "      <td>0.556</td>\n",
       "      <td>169560</td>\n",
       "      <td>0.284</td>\n",
       "      <td>7brL0ZuueQZUgpDgheNcqs</td>\n",
       "      <td>0.000024</td>\n",
       "      <td>0</td>\n",
       "      <td>0.0965</td>\n",
       "      <td>-14.921</td>\n",
       "      <td>1</td>\n",
       "      <td>0.0332</td>\n",
       "      <td>112.894</td>\n",
       "      <td>4</td>\n",
       "      <td>https://api.spotify.com/v1/tracks/7brL0ZuueQZU...</td>\n",
       "      <td>audio_features</td>\n",
       "      <td>spotify:track:7brL0ZuueQZUgpDgheNcqs</td>\n",
       "      <td>0.238</td>\n",
       "    </tr>\n",
       "  </tbody>\n",
       "</table>\n",
       "</div>"
      ],
      "text/plain": [
       "   acousticness                                       analysis_url  \\\n",
       "0        0.1100  https://api.spotify.com/v1/audio-analysis/4tSZ...   \n",
       "1        0.0303  https://api.spotify.com/v1/audio-analysis/3S57...   \n",
       "2        0.0967  https://api.spotify.com/v1/audio-analysis/7Dqk...   \n",
       "3        0.2530  https://api.spotify.com/v1/audio-analysis/7obb...   \n",
       "4        0.8510  https://api.spotify.com/v1/audio-analysis/7brL...   \n",
       "\n",
       "   danceability  duration_ms  energy                      id  \\\n",
       "0         0.699       239307   0.610  4tSZr210OTY6upjNYfEYUI   \n",
       "1         0.542       171693   0.643  3S574gsoQJl826YjsuRqSr   \n",
       "2         0.673       271933   0.265  7DqktFsRwJa0XDFPMjV1xJ   \n",
       "3         0.470       198373   0.397  7obb4s6A7gf0Lc2AGxodMy   \n",
       "4         0.556       169560   0.284  7brL0ZuueQZUgpDgheNcqs   \n",
       "\n",
       "   instrumentalness  key  liveness  loudness  mode  speechiness    tempo  \\\n",
       "0          0.001880    4    0.0600   -13.372     0       0.0272  105.568   \n",
       "1          0.007070   11    0.1050    -7.864     0       0.0296  136.674   \n",
       "2          0.033600    9    0.0809   -15.711     1       0.0387  136.748   \n",
       "3          0.000013    0    0.1090    -9.337     1       0.0345  128.690   \n",
       "4          0.000024    0    0.0965   -14.921     1       0.0332  112.894   \n",
       "\n",
       "   time_signature                                         track_href  \\\n",
       "0               4  https://api.spotify.com/v1/tracks/4tSZr210OTY6...   \n",
       "1               4  https://api.spotify.com/v1/tracks/3S574gsoQJl8...   \n",
       "2               4  https://api.spotify.com/v1/tracks/7DqktFsRwJa0...   \n",
       "3               4  https://api.spotify.com/v1/tracks/7obb4s6A7gf0...   \n",
       "4               4  https://api.spotify.com/v1/tracks/7brL0ZuueQZU...   \n",
       "\n",
       "             type                                   uri  valence  \n",
       "0  audio_features  spotify:track:4tSZr210OTY6upjNYfEYUI    0.755  \n",
       "1  audio_features  spotify:track:3S574gsoQJl826YjsuRqSr    0.788  \n",
       "2  audio_features  spotify:track:7DqktFsRwJa0XDFPMjV1xJ    0.641  \n",
       "3  audio_features  spotify:track:7obb4s6A7gf0Lc2AGxodMy    0.487  \n",
       "4  audio_features  spotify:track:7brL0ZuueQZUgpDgheNcqs    0.238  "
      ]
     },
     "execution_count": 236,
     "metadata": {},
     "output_type": "execute_result"
    }
   ],
   "source": [
    "print(len(audio_df))\n",
    "audio_df.head()\n"
   ]
  },
  {
   "cell_type": "code",
   "execution_count": 239,
   "metadata": {
    "collapsed": true
   },
   "outputs": [],
   "source": [
    "#exports to csv \n",
    "playlist_df.to_csv('Playlists.csv')\n",
    "track_df.to_csv('Tracks.csv')\n",
    "audio_df.to_csv('Audio.csv')"
   ]
  },
  {
   "cell_type": "markdown",
   "metadata": {
    "collapsed": true
   },
   "source": [
    "**Additional Comments**: \n",
    "* The lengths of the tracks and audio data frames are different, which shouldn't be the case. Our guess is that some of the users songs are personally uploaded to spotify, and thus we can't get the data on them. Nontheless, the frames should still relate okay. We chose to use csvs, instead of a SQL connection. However, our frames are  developed in a somewhat relation style, and would translate easily to an SQL databse. "
   ]
  },
  {
   "cell_type": "code",
   "execution_count": null,
   "metadata": {
    "collapsed": true
   },
   "outputs": [],
   "source": []
  }
 ],
 "metadata": {
  "kernelspec": {
   "display_name": "Python 3",
   "language": "python",
   "name": "python3"
  },
  "language_info": {
   "codemirror_mode": {
    "name": "ipython",
    "version": 3
   },
   "file_extension": ".py",
   "mimetype": "text/x-python",
   "name": "python",
   "nbconvert_exporter": "python",
   "pygments_lexer": "ipython3",
   "version": "3.6.1"
  }
 },
 "nbformat": 4,
 "nbformat_minor": 2
}
